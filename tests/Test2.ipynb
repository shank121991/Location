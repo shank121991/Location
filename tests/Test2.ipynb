{
 "cells": [
  {
   "cell_type": "code",
   "execution_count": 1,
   "metadata": {},
   "outputs": [
    {
     "name": "stdout",
     "output_type": "stream",
     "text": [
      "------------------------------------------\n",
      "The sample points information is here: \n",
      "\n",
      "[[39.984702, 116.318417, 0, 492, 39744.1201851852, '2008-10-23', '02:53:04'], [39.995777, 116.286798, 0, 716, 39744.1723032407, '2008-10-23', '04:08:07'], [40.004775, 116.320158, 0, 105, 39744.4044560185, '2008-10-23', '09:42:25'], [40.008761, 116.323722, 0, 377, 39744.4475810185, '2008-10-23', '10:44:31'], [40.008851, 116.321485, 0, 94, 39744.4641435185, '2008-10-23', '11:08:22']]\n",
      "The sample points addresses are here: \n",
      "\n"
     ]
    },
    {
     "ename": "NameError",
     "evalue": "name 'Nominatim' is not defined",
     "output_type": "error",
     "traceback": [
      "\u001b[0;31m---------------------------------------------------------------------------\u001b[0m",
      "\u001b[0;31mNameError\u001b[0m                                 Traceback (most recent call last)",
      "\u001b[0;32m<ipython-input-1-db1e3b906fd1>\u001b[0m in \u001b[0;36m<module>\u001b[0;34m()\u001b[0m\n\u001b[1;32m     59\u001b[0m \u001b[0mprint\u001b[0m\u001b[0;34m(\u001b[0m\u001b[0;34m\"The sample points addresses are here: \\n\"\u001b[0m\u001b[0;34m)\u001b[0m\u001b[0;34m\u001b[0m\u001b[0m\n\u001b[1;32m     60\u001b[0m \u001b[0;32mfor\u001b[0m \u001b[0mi\u001b[0m \u001b[0;32min\u001b[0m \u001b[0mrange\u001b[0m\u001b[0;34m(\u001b[0m\u001b[0;36m0\u001b[0m\u001b[0;34m,\u001b[0m\u001b[0mlen\u001b[0m\u001b[0;34m(\u001b[0m\u001b[0msamplepoints\u001b[0m\u001b[0;34m)\u001b[0m\u001b[0;34m)\u001b[0m\u001b[0;34m:\u001b[0m\u001b[0;34m\u001b[0m\u001b[0m\n\u001b[0;32m---> 61\u001b[0;31m     \u001b[0mgeolocator\u001b[0m \u001b[0;34m=\u001b[0m \u001b[0mNominatim\u001b[0m\u001b[0;34m(\u001b[0m\u001b[0;34m)\u001b[0m\u001b[0;34m\u001b[0m\u001b[0m\n\u001b[0m\u001b[1;32m     62\u001b[0m     \u001b[0mlocation\u001b[0m \u001b[0;34m=\u001b[0m \u001b[0mgeolocator\u001b[0m\u001b[0;34m.\u001b[0m\u001b[0mreverse\u001b[0m\u001b[0;34m(\u001b[0m\u001b[0;34m[\u001b[0m\u001b[0msamplepoints\u001b[0m\u001b[0;34m[\u001b[0m\u001b[0mi\u001b[0m\u001b[0;34m]\u001b[0m\u001b[0;34m[\u001b[0m\u001b[0;36m0\u001b[0m\u001b[0;34m]\u001b[0m\u001b[0;34m,\u001b[0m \u001b[0msamplepoints\u001b[0m\u001b[0;34m[\u001b[0m\u001b[0mi\u001b[0m\u001b[0;34m]\u001b[0m\u001b[0;34m[\u001b[0m\u001b[0;36m1\u001b[0m\u001b[0;34m]\u001b[0m\u001b[0;34m]\u001b[0m\u001b[0;34m,\u001b[0m \u001b[0mtimeout\u001b[0m \u001b[0;34m=\u001b[0m \u001b[0;36m10\u001b[0m\u001b[0;34m,\u001b[0m \u001b[0mexactly_one\u001b[0m\u001b[0;34m=\u001b[0m\u001b[0;32mTrue\u001b[0m\u001b[0;34m)\u001b[0m\u001b[0;34m\u001b[0m\u001b[0m\n\u001b[1;32m     63\u001b[0m     \u001b[0mprint\u001b[0m \u001b[0;34m(\u001b[0m\u001b[0mlocation\u001b[0m\u001b[0;34m.\u001b[0m\u001b[0maddress\u001b[0m\u001b[0;34m)\u001b[0m\u001b[0;34m\u001b[0m\u001b[0m\n",
      "\u001b[0;31mNameError\u001b[0m: name 'Nominatim' is not defined"
     ]
    }
   ],
   "source": [
    "import requests\n",
    "import json\n",
    "import datetime\n",
    "import math\n",
    "import numpy as np\n",
    "from datetime import datetime\n",
    "import time\n",
    "from geopy.geocoders import GoogleV3\n",
    "\n",
    "def meters(lat1, lon1, lat2, lon2):  # geo measurement function\n",
    "    R = 6378.137 # Radius of earth in KM\n",
    "    dLat = lat2 * math.pi / 180 - lat1 * math.pi / 180\n",
    "    dLon = lon2 * math.pi / 180 - lon1 * math.pi / 180\n",
    "    a = math.sin(dLat/2) * math.sin(dLat/2) + math.cos(lat1 * math.pi / 180) * math.cos(lat2 * math.pi / 180) * math.sin(dLon/2) * math.sin(dLon/2);\n",
    "    c = 2 * math.atan2(math.sqrt(a), math.sqrt(1-a));\n",
    "    d = R * c\n",
    "    return d * 1000 # meters\n",
    "\n",
    "def timediff(date1, time1, date2, time2):\n",
    "    if (date1 == date2):\n",
    "        FMT = '%H:%M:%S'\n",
    "        tdelta = datetime.strptime(time2, FMT) - datetime.strptime(time1, FMT)\n",
    "        return tdelta.seconds/60 # Time diff in minutes\n",
    "    else:\n",
    "        return 0\n",
    "    \n",
    "data = []\n",
    "samplepoints = []\n",
    "toberemovedindex = []\n",
    "\n",
    "#send_url = 'http://freegeoip.net/json'\n",
    "#r = requests.get(send_url)\n",
    "#j = json.loads(r.text)\n",
    "#lat = j['latitude']\n",
    "#lon = j['longitude']\n",
    "#print (lat, lon)\n",
    "\n",
    "data = np.genfromtxt(open('/home/shashank/Downloads/Geolife Trajectories 1.3/Data/000/Trajectory/20081023025304.plt','r'),skip_header = 6, delimiter=',', dtype=None, encoding='utf8')\n",
    "#print (data)\n",
    "print (\"------------------------------------------\")\n",
    "\n",
    "#print(meters(10,11,12,13))\n",
    "#print(meters(data[0][0],data[0][1],data[1][0],data[1][1]))\n",
    "for i in range(0, 907):\n",
    "    for j in range(1, 907):\n",
    "        if (i!= j and meters(data[i][0], data[i][1], data[j][0], data[j][1] <= 50) and timediff(data[i][5], data[i][6], data[j][5], data[j][6])<= 10):\n",
    "            toberemovedindex.append(j)\n",
    "            #print(\"HI\")\n",
    "            \n",
    "toberemovedindex = list(set(toberemovedindex))\n",
    "\n",
    "for i in range(0, 907):\n",
    "    if i not in toberemovedindex:\n",
    "        samplepoints.append([data[i][0],data[i][1],data[i][2],data[i][3],data[i][4],data[i][5],data[i][6]])    \n",
    "\n",
    "print(\"The sample points information is here: \\n\")\n",
    "print(samplepoints) \n",
    "\n",
    "print(\"The sample points addresses are here: \\n\")\n",
    "for i in range(0,len(samplepoints)):\n",
    "    geolocator = Nominatim()\n",
    "    location = geolocator.reverse([samplepoints[i][0], samplepoints[i][1]], timeout = 10, exactly_one=True)\n",
    "    print (location.address)\n"
   ]
  },
  {
   "cell_type": "code",
   "execution_count": null,
   "metadata": {},
   "outputs": [],
   "source": []
  },
  {
   "cell_type": "code",
   "execution_count": 23,
   "metadata": {},
   "outputs": [
    {
     "name": "stdout",
     "output_type": "stream",
     "text": [
      "116.318417 39.984702\n",
      "116.3159262 39.9845798 北四环西路, 新科祥园, 海淀路社区, 海淀区, 北京市, 100080, 中国\n"
     ]
    }
   ],
   "source": [
    "geolocator = Nominatim()\n",
    "print(data[0][1], data[0][0])\n",
    "#location = geolocator.reverse[data[0][1], data[0][0]]\n",
    "#print(location.address)\n",
    "location = geolocator.reverse([data[0][0], data[0][1]], timeout = 10, exactly_one=True)\n",
    "print (location.longitude,location.latitude,location.address)"
   ]
  },
  {
   "cell_type": "code",
   "execution_count": 29,
   "metadata": {
    "scrolled": true
   },
   "outputs": [
    {
     "name": "stdout",
     "output_type": "stream",
     "text": [
      "------------------------------------------\n"
     ]
    },
    {
     "data": {
      "image/png": "[encoded data removed]",
      "text/plain": [
       "<matplotlib.figure.Figure at 0x7ff062b87668>"
      ]
     },
     "metadata": {},
     "output_type": "display_data"
    }
   ],
   "source": [
    "import matplotlib.pyplot as plt\n",
    "import numpy as np\n",
    "\n",
    "data = []\n",
    "x = []\n",
    "y = []\n",
    "\n",
    "data = np.genfromtxt(open('/home/shashank/Documents/location/Geolife Trajectories 1.3/Data/000/Trajectory/20081026134407.plt','r'),skip_header = 6, delimiter=',', dtype=None, encoding='utf8')\n",
    "print (\"------------------------------------------\")\n",
    "\n",
    "#print(meters(10,11,12,13))\n",
    "#print(meters(data[0][0],data[0][1],data[1][0],data[1][1]))\n",
    "for i in range(0, len(data)):\n",
    "    x.append(data[i][6])\n",
    "    y.append(data[i][0])\n",
    "        #y.append(data[i][1])\n",
    "\n",
    "fig = plt.figure()\n",
    "fig.add_subplot(111)\n",
    "#plt.figure(num=None, figsize=(8, 6), dpi=80, facecolor='w', edgecolor='k')\n",
    "plt.scatter(x, y)\n",
    "#plt.show()\n",
    "fig.savefig('graphtest1.png')\n"
   ]
  },
  {
   "cell_type": "code",
   "execution_count": null,
   "metadata": {},
   "outputs": [],
   "source": []
  },
  {
   "cell_type": "code",
   "execution_count": null,
   "metadata": {},
   "outputs": [],
   "source": []
  }
 ],
 "metadata": {
  "kernelspec": {
   "display_name": "Python 3",
   "language": "python",
   "name": "python3"
  },
  "language_info": {
   "codemirror_mode": {
    "name": "ipython",
    "version": 3
   },
   "file_extension": ".py",
   "mimetype": "text/x-python",
   "name": "python",
   "nbconvert_exporter": "python",
   "pygments_lexer": "ipython3",
   "version": "3.6.4"
  }
 },
 "nbformat": 4,
 "nbformat_minor": 2
}
